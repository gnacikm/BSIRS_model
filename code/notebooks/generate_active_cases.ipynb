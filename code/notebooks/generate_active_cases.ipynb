{
 "cells": [
  {
   "cell_type": "markdown",
   "metadata": {},
   "source": [
    "# Generating Active case data from https://coronavirus.data.gov.uk/"
   ]
  },
  {
   "cell_type": "code",
   "execution_count": null,
   "metadata": {},
   "outputs": [],
   "source": [
    "import sys\n",
    "from pathlib import Path\n",
    "#Set root to be the main project folder\n",
    "#Note that this notebook is in /SOCIAL_DISTANCING/CODE/NOTEBOOKS/TEST_NOTEBOOKS\n",
    "root = Path.cwd().parent.parent\n",
    "print(root)\n",
    "py_path = Path(root/'code/py-files')\n",
    "print(py_path)\n",
    "data_path = Path(root/'static')\n",
    "print(data_path)\n",
    "\n",
    "#Add location of py files to path so we can import\n",
    "sys.path.insert(0,str(py_path))"
   ]
  },
  {
   "cell_type": "code",
   "execution_count": 272,
   "metadata": {},
   "outputs": [],
   "source": [
    "import numpy as np\n",
    "import pandas as pd\n",
    "import geopandas as gpd\n",
    "from pathlib import Path\n",
    "import matplotlib.pyplot as plt\n",
    "from shapely.geometry import Point, Polygon\n",
    "from importlib import reload\n",
    "from tqdm import tqdm\n",
    "from mpl_toolkits.axes_grid1 import make_axes_locatable\n",
    "from matplotlib import cm\n",
    "from scipy.spatial import distance_matrix"
   ]
  },
  {
   "cell_type": "code",
   "execution_count": 273,
   "metadata": {},
   "outputs": [],
   "source": [
    "utla_folder = Path(data_path/'utla_data/')"
   ]
  },
  {
   "cell_type": "code",
   "execution_count": 274,
   "metadata": {},
   "outputs": [],
   "source": [
    "import os\n",
    "import requests\n",
    "\n",
    "url = \"https://api.coronavirus.data.gov.uk/v2/data?areaType=utla&metric=cumCasesBySpecimenDate&metric=newCasesBySpecimenDate&format=csv\"\n",
    "req = requests.get(url)\n",
    "url_content = req.content\n",
    "csv_file = open(utla_folder/'csv/covid_cases.csv', 'wb')\n",
    "\n",
    "csv_file.write(url_content)\n",
    "csv_file.close()"
   ]
  },
  {
   "cell_type": "code",
   "execution_count": 275,
   "metadata": {},
   "outputs": [],
   "source": [
    "df_covid = pd.read_csv(utla_folder/'csv/covid_cases.csv')"
   ]
  },
  {
   "cell_type": "code",
   "execution_count": 333,
   "metadata": {},
   "outputs": [
    {
     "data": {
      "text/html": [
       "<div>\n",
       "<style scoped>\n",
       "    .dataframe tbody tr th:only-of-type {\n",
       "        vertical-align: middle;\n",
       "    }\n",
       "\n",
       "    .dataframe tbody tr th {\n",
       "        vertical-align: top;\n",
       "    }\n",
       "\n",
       "    .dataframe thead th {\n",
       "        text-align: right;\n",
       "    }\n",
       "</style>\n",
       "<table border=\"1\" class=\"dataframe\">\n",
       "  <thead>\n",
       "    <tr style=\"text-align: right;\">\n",
       "      <th></th>\n",
       "      <th>index</th>\n",
       "      <th>areaCode</th>\n",
       "      <th>areaName</th>\n",
       "      <th>areaType</th>\n",
       "      <th>date</th>\n",
       "      <th>cumCasesBySpecimenDate</th>\n",
       "      <th>newCasesBySpecimenDate</th>\n",
       "    </tr>\n",
       "  </thead>\n",
       "  <tbody>\n",
       "  </tbody>\n",
       "</table>\n",
       "</div>"
      ],
      "text/plain": [
       "Empty DataFrame\n",
       "Columns: [index, areaCode, areaName, areaType, date, cumCasesBySpecimenDate, newCasesBySpecimenDate]\n",
       "Index: []"
      ]
     },
     "execution_count": 333,
     "metadata": {},
     "output_type": "execute_result"
    }
   ],
   "source": [
    "# no data for City of London E09000001\n",
    "df_covid[df_covid.areaCode == \"E09000001\"]"
   ]
  },
  {
   "cell_type": "code",
   "execution_count": 277,
   "metadata": {},
   "outputs": [],
   "source": [
    "df_pops = pd.read_csv(utla_folder/'csv/population.csv')\n",
    "df_pops = df_pops.iloc[:151]"
   ]
  },
  {
   "cell_type": "code",
   "execution_count": 278,
   "metadata": {},
   "outputs": [],
   "source": [
    "utlasA = df_covid[\"areaCode\"].unique()\n",
    "utlasA.sort()"
   ]
  },
  {
   "cell_type": "code",
   "execution_count": 279,
   "metadata": {},
   "outputs": [],
   "source": [
    "gdf_ut = gpd.read_file(utla_folder/\"shp/UTLA_ENG.shp\")"
   ]
  },
  {
   "cell_type": "code",
   "execution_count": 280,
   "metadata": {},
   "outputs": [],
   "source": [
    "df_covid = df_covid.sort_values(\"date\").reset_index()"
   ]
  },
  {
   "cell_type": "code",
   "execution_count": 281,
   "metadata": {},
   "outputs": [],
   "source": [
    "dates = df_covid[\"date\"].unique()\n",
    "dates.sort()"
   ]
  },
  {
   "cell_type": "code",
   "execution_count": 282,
   "metadata": {},
   "outputs": [],
   "source": [
    "def GenerCases(date):\n",
    "    #print(date)\n",
    "    df_covid_date = df_covid[df_covid[\"date\"] == date].copy()\n",
    "    df_covid_date = df_covid_date.reset_index(drop=True)\n",
    "    #print(date)\n",
    "    TotalCases = np.full(gdf_ut.UTLA19CD.size, 0)\n",
    "    for j, itemA in enumerate(gdf_ut.UTLA19CD):\n",
    "        for k, itemB in enumerate(df_covid_date[\"areaCode\"]):\n",
    "            if itemA == itemB:\n",
    "                TotalCases[j] =  df_covid_date[\"cumCasesBySpecimenDate\"][k]\n",
    "    return TotalCases"
   ]
  },
  {
   "cell_type": "code",
   "execution_count": 283,
   "metadata": {},
   "outputs": [],
   "source": [
    "july_date = np.where(dates == '2020-07-01')[0][0]\n",
    "dates_from_july = dates[july_date:]"
   ]
  },
  {
   "cell_type": "code",
   "execution_count": 284,
   "metadata": {},
   "outputs": [],
   "source": [
    "avg_infection_time = 10"
   ]
  },
  {
   "cell_type": "code",
   "execution_count": 285,
   "metadata": {},
   "outputs": [],
   "source": [
    "cases = dates_from_july[::avg_infection_time]"
   ]
  },
  {
   "cell_type": "code",
   "execution_count": 304,
   "metadata": {},
   "outputs": [],
   "source": [
    "def produce_cases(cases):\n",
    "    all_new_cases = []\n",
    "    old_item =  GenerCases(cases[0])\n",
    "    for item in cases[1:]:\n",
    "        new_cases = GenerCases(item) - old_item\n",
    "        all_new_cases.append(new_cases)\n",
    "        old_item = GenerCases(item)\n",
    "    return np.array(all_new_cases)"
   ]
  },
  {
   "cell_type": "code",
   "execution_count": 318,
   "metadata": {},
   "outputs": [],
   "source": [
    "new_cases = produce_cases(cases)"
   ]
  },
  {
   "cell_type": "code",
   "execution_count": 320,
   "metadata": {},
   "outputs": [],
   "source": [
    "# Uncomment if you wish to have cases per 1000 people\n",
    "old_item = cases[0]\n",
    "for k, item in enumerate(new_cases):\n",
    "    gdf_ut['{}'.format(cases[k])] =  item #/ df_pops[\"population\"] * 1000\n",
    "    old_item = cases[k]"
   ]
  },
  {
   "cell_type": "code",
   "execution_count": 312,
   "metadata": {},
   "outputs": [],
   "source": [
    "#  gdf_ut.to_file(utla_folder/\"shp/covid-cases_EN_recent.shp\")"
   ]
  }
 ],
 "metadata": {
  "kernelspec": {
   "display_name": "covid-env",
   "language": "python",
   "name": "covid-env"
  },
  "language_info": {
   "codemirror_mode": {
    "name": "ipython",
    "version": 3
   },
   "file_extension": ".py",
   "mimetype": "text/x-python",
   "name": "python",
   "nbconvert_exporter": "python",
   "pygments_lexer": "ipython3",
   "version": "3.8.10"
  }
 },
 "nbformat": 4,
 "nbformat_minor": 4
}
